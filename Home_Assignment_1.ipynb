{
  "nbformat": 4,
  "nbformat_minor": 0,
  "metadata": {
    "colab": {
      "provenance": []
    },
    "kernelspec": {
      "name": "python3",
      "display_name": "Python 3"
    },
    "language_info": {
      "name": "python"
    }
  },
  "cells": [
    {
      "cell_type": "markdown",
      "source": [
        "1.\tTensor Manipulations & Reshaping\n",
        "Task: Tensor Reshaping & Operations\n",
        "1.\tCreate a random tensor of shape (4, 6).\n",
        "2.\tFind its rank and shape using TensorFlow functions.\n",
        "3.\tReshape it into (2, 3, 4) and transpose it to (3, 2, 4).\n",
        "4.\tBroadcast a smaller tensor (1, 4) to match the larger tensor and add them.\n",
        "5.\tExplain how broadcasting works in TensorFlow.\n",
        "Expected Output:\n",
        "•\tPrint rank and shape of the tensor before and after reshaping/transposing.\n"
      ],
      "metadata": {
        "id": "xW74Ld_Hvxhy"
      }
    },
    {
      "cell_type": "code",
      "execution_count": null,
      "metadata": {
        "colab": {
          "base_uri": "https://localhost:8080/"
        },
        "id": "-NersZHkln_R",
        "outputId": "a5a2b930-8aa4-433d-9079-9cd0914fe2c8"
      },
      "outputs": [
        {
          "output_type": "stream",
          "name": "stdout",
          "text": [
            "Original Tensor:\n",
            " [[0.43163776 0.23712015 0.95622575 0.6679077  0.48286355 0.91143405]\n",
            " [0.23422527 0.06013834 0.7084913  0.48655176 0.0235101  0.73808694]\n",
            " [0.7308767  0.583809   0.3106469  0.7914356  0.6646911  0.31500828]\n",
            " [0.38268244 0.03711772 0.34891212 0.204211   0.01286471 0.28875816]]\n",
            "\n",
            "Rank of tensor: 2\n",
            "Shape of tensor: [4 6]\n",
            "\n",
            "Reshaped tensor (2, 3, 4):\n",
            " [[[0.43163776 0.23712015 0.95622575 0.6679077 ]\n",
            "  [0.48286355 0.91143405 0.23422527 0.06013834]\n",
            "  [0.7084913  0.48655176 0.0235101  0.73808694]]\n",
            "\n",
            " [[0.7308767  0.583809   0.3106469  0.7914356 ]\n",
            "  [0.6646911  0.31500828 0.38268244 0.03711772]\n",
            "  [0.34891212 0.204211   0.01286471 0.28875816]]]\n",
            "\n",
            "Transposed tensor (3, 2, 4):\n",
            " [[[0.43163776 0.23712015 0.95622575 0.6679077 ]\n",
            "  [0.7308767  0.583809   0.3106469  0.7914356 ]]\n",
            "\n",
            " [[0.48286355 0.91143405 0.23422527 0.06013834]\n",
            "  [0.6646911  0.31500828 0.38268244 0.03711772]]\n",
            "\n",
            " [[0.7084913  0.48655176 0.0235101  0.73808694]\n",
            "  [0.34891212 0.204211   0.01286471 0.28875816]]]\n",
            "\n",
            "Smaller Tensor (1, 4):\n",
            " [[0.9408032  0.62229335 0.94555926 0.6471119 ]]\n",
            "\n",
            "Broadcasted Sum:\n",
            " [[[1.3724409  0.8594135  1.901785   1.3150196 ]\n",
            "  [1.6716799  1.2061024  1.2562062  1.4385475 ]]\n",
            "\n",
            " [[1.4236667  1.5337274  1.1797845  0.70725024]\n",
            "  [1.6054943  0.93730164 1.3282417  0.6842296 ]]\n",
            "\n",
            " [[1.6492945  1.1088451  0.96906936 1.3851988 ]\n",
            "  [1.2897153  0.82650435 0.958424   0.93587005]]]\n"
          ]
        }
      ],
      "source": [
        "import tensorflow as tf\n",
        "\n",
        "# 1. Create a random tensor of shape (4, 6)\n",
        "tensor = tf.random.uniform((4, 6))\n",
        "print(\"Original Tensor:\\n\", tensor.numpy())\n",
        "\n",
        "# 2. Find its rank and shape using TensorFlow functions\n",
        "rank = tf.rank(tensor)\n",
        "shape = tf.shape(tensor)\n",
        "print(\"\\nRank of tensor:\", rank.numpy())\n",
        "print(\"Shape of tensor:\", shape.numpy())\n",
        "\n",
        "# 3. Reshape tensor to (2, 3, 4), then transpose it to (3, 2, 4)\n",
        "reshaped_tensor = tf.reshape(tensor, (2, 3, 4))\n",
        "transposed_tensor = tf.transpose(reshaped_tensor, perm=[1, 0, 2])\n",
        "print(\"\\nReshaped tensor (2, 3, 4):\\n\", reshaped_tensor.numpy())\n",
        "print(\"\\nTransposed tensor (3, 2, 4):\\n\", transposed_tensor.numpy())\n",
        "\n",
        "# 4. Broadcast a smaller tensor (1, 4) to match the larger tensor (3, 2, 4) and add them\n",
        "small_tensor = tf.random.uniform((1, 4))\n",
        "broadcasted_sum = transposed_tensor + small_tensor\n",
        "print(\"\\nSmaller Tensor (1, 4):\\n\", small_tensor.numpy())\n",
        "print(\"\\nBroadcasted Sum:\\n\", broadcasted_sum.numpy())\n"
      ]
    },
    {
      "cell_type": "markdown",
      "source": [
        "2.\tLoss Functions & Hyperparameter Tuning\n",
        "Task: Implement and Compare Loss Functions\n",
        "1.\tDefine true values (y_true) and model predictions (y_pred).\n",
        "2.\tCompute Mean Squared Error (MSE) and Categorical Cross-Entropy (CCE) losses.\n",
        "3.\tModify predictions slightly and check how loss values change.\n",
        "4.\tPlot loss function values using Matplotlib.\n",
        "Expected Output:\n",
        "•\tLoss values printed for different predictions.\n",
        "•\tBar chart comparing MSE and Cross-Entropy Loss.\n"
      ],
      "metadata": {
        "id": "VDf8dpRwv5ap"
      }
    },
    {
      "cell_type": "code",
      "source": [
        "import numpy as np\n",
        "import tensorflow as tf\n",
        "import matplotlib.pyplot as plt\n",
        "\n",
        "# 1. Define true values and model predictions (one-hot encoded)\n",
        "y_true = np.array([[1, 0, 0], [0, 1, 0], [0, 0, 1]])\n",
        "y_pred = np.array([[0.7, 0.2, 0.1],\n",
        "                   [0.1, 0.8, 0.1],\n",
        "                   [0.2, 0.2, 0.6]])\n",
        "\n",
        "# 2. Compute initial loss values\n",
        "mse_loss = tf.keras.losses.MeanSquaredError()\n",
        "cce_loss = tf.keras.losses.CategoricalCrossentropy()\n",
        "\n",
        "initial_mse = mse_loss(y_true, y_pred).numpy()\n",
        "initial_cce = cce_loss(y_true, y_pred).numpy()\n",
        "\n",
        "# 3. Slightly modify predictions\n",
        "y_pred_modified = np.array([[0.6, 0.3, 0.1],\n",
        "                            [0.2, 0.7, 0.1],\n",
        "                            [0.3, 0.3, 0.4]])\n",
        "\n",
        "modified_mse = mse_loss(y_true, y_pred_modified).numpy()\n",
        "modified_cce = cce_loss(y_true, y_pred_modified).numpy()\n",
        "\n",
        "# 4. Plot the loss values\n",
        "loss_labels = ['Initial', 'Modified']\n",
        "mse_values = [initial_mse, modified_mse]\n",
        "cce_values = [initial_cce, modified_cce]\n",
        "\n",
        "fig, axes = plt.subplots(1, 2, figsize=(12, 4))\n",
        "\n",
        "# Plot MSE\n",
        "axes[0].bar(loss_labels, mse_values, color=['blue', 'green'])\n",
        "axes[0].set_title('Mean Squared Error (MSE)')\n",
        "axes[0].set_ylabel('Loss')\n",
        "\n",
        "# Plot CCE\n",
        "axes[1].bar(loss_labels, cce_values, color=['orange', 'red'])\n",
        "axes[1].set_title('Categorical Cross-Entropy (CCE)')\n",
        "axes[1].set_ylabel('Loss')\n",
        "\n",
        "plt.suptitle('Comparison of Loss Functions', fontsize=14)\n",
        "plt.tight_layout()\n",
        "plt.show()\n"
      ],
      "metadata": {
        "colab": {
          "base_uri": "https://localhost:8080/",
          "height": 413
        },
        "id": "WyjRsWn3mg0x",
        "outputId": "2cb37a30-6950-4142-94d7-1d6530d3f062"
      },
      "execution_count": null,
      "outputs": [
        {
          "output_type": "display_data",
          "data": {
            "text/plain": [
              "<Figure size 1200x400 with 2 Axes>"
            ],
            "image/png": "[encoded data removed]"
          },
          "metadata": {}
        }
      ]
    },
    {
      "cell_type": "markdown",
      "source": [
        "3.\tTrain a Neural Network and Log to TensorBoard\n",
        "Task Description\n",
        "1.\tLoad the MNIST dataset and preprocess it.\n",
        "2.\tTrain a simple neural network model and enable TensorBoard logging.\n",
        "3.\tLaunch TensorBoard and analyze loss and accuracy trends.\n",
        "Expected Outcome:\n",
        "•\tThe model should train for 5 epochs and store logs in the \"logs/fit/\" directory.\n",
        "•\tYou should be able to visualize training vs. validation accuracy and loss in TensorBoard.\n"
      ],
      "metadata": {
        "id": "c95II49DwAma"
      }
    },
    {
      "cell_type": "code",
      "source": [
        "import tensorflow as tf\n",
        "from tensorflow.keras.datasets import mnist\n",
        "from tensorflow.keras.models import Sequential\n",
        "from tensorflow.keras.layers import Flatten, Dense\n",
        "from tensorflow.keras.utils import to_categorical\n",
        "from datetime import datetime\n",
        "\n",
        "# Load and preprocess the MNIST dataset\n",
        "(x_train, y_train), (x_test, y_test) = mnist.load_data()\n",
        "\n",
        "# Normalize the input data\n",
        "x_train, x_test = x_train / 255.0, x_test / 255.0\n",
        "\n",
        "# Convert labels to categorical format\n",
        "y_train_cat = to_categorical(y_train, num_classes=10)\n",
        "y_test_cat = to_categorical(y_test, num_classes=10)\n",
        "\n",
        "# Define a simple neural network model\n",
        "model = Sequential([\n",
        "    Flatten(input_shape=(28, 28)),\n",
        "    Dense(128, activation='relu'),\n",
        "    Dense(64, activation='relu'),\n",
        "    Dense(10, activation='softmax')\n",
        "])\n",
        "\n",
        "model.compile(optimizer='adam',\n",
        "              loss='categorical_crossentropy',\n",
        "              metrics=['accuracy'])\n",
        "\n",
        "# Set up TensorBoard callback\n",
        "log_dir = \"logs/fit/\" + datetime.now().strftime(\"%Y%m%d-%H%M%S\")\n",
        "tensorboard_callback = tf.keras.callbacks.TensorBoard(log_dir=log_dir, histogram_freq=1)\n",
        "\n",
        "# Train the model\n",
        "model.fit(x_train, y_train_cat,\n",
        "          epochs=5,\n",
        "          batch_size=64,\n",
        "          validation_data=(x_test, y_test_cat),\n",
        "          callbacks=[tensorboard_callback])\n"
      ],
      "metadata": {
        "colab": {
          "base_uri": "https://localhost:8080/"
        },
        "id": "iSYBaNNRmhz1",
        "outputId": "5bc9d26e-9343-4c26-ca18-2f662ca92102"
      },
      "execution_count": null,
      "outputs": [
        {
          "output_type": "stream",
          "name": "stdout",
          "text": [
            "Downloading data from https://storage.googleapis.com/tensorflow/tf-keras-datasets/mnist.npz\n",
            "\u001b[1m11490434/11490434\u001b[0m \u001b[32m━━━━━━━━━━━━━━━━━━━━\u001b[0m\u001b[37m\u001b[0m \u001b[1m0s\u001b[0m 0us/step\n"
          ]
        },
        {
          "output_type": "stream",
          "name": "stderr",
          "text": [
            "/usr/local/lib/python3.11/dist-packages/keras/src/layers/reshaping/flatten.py:37: UserWarning: Do not pass an `input_shape`/`input_dim` argument to a layer. When using Sequential models, prefer using an `Input(shape)` object as the first layer in the model instead.\n",
            "  super().__init__(**kwargs)\n"
          ]
        },
        {
          "output_type": "stream",
          "name": "stdout",
          "text": [
            "Epoch 1/5\n",
            "\u001b[1m938/938\u001b[0m \u001b[32m━━━━━━━━━━━━━━━━━━━━\u001b[0m\u001b[37m\u001b[0m \u001b[1m8s\u001b[0m 6ms/step - accuracy: 0.8561 - loss: 0.4930 - val_accuracy: 0.9622 - val_loss: 0.1254\n",
            "Epoch 2/5\n",
            "\u001b[1m938/938\u001b[0m \u001b[32m━━━━━━━━━━━━━━━━━━━━\u001b[0m\u001b[37m\u001b[0m \u001b[1m10s\u001b[0m 6ms/step - accuracy: 0.9664 - loss: 0.1145 - val_accuracy: 0.9706 - val_loss: 0.0949\n",
            "Epoch 3/5\n",
            "\u001b[1m938/938\u001b[0m \u001b[32m━━━━━━━━━━━━━━━━━━━━\u001b[0m\u001b[37m\u001b[0m \u001b[1m6s\u001b[0m 6ms/step - accuracy: 0.9750 - loss: 0.0800 - val_accuracy: 0.9745 - val_loss: 0.0820\n",
            "Epoch 4/5\n",
            "\u001b[1m938/938\u001b[0m \u001b[32m━━━━━━━━━━━━━━━━━━━━\u001b[0m\u001b[37m\u001b[0m \u001b[1m10s\u001b[0m 6ms/step - accuracy: 0.9823 - loss: 0.0578 - val_accuracy: 0.9744 - val_loss: 0.0842\n",
            "Epoch 5/5\n",
            "\u001b[1m938/938\u001b[0m \u001b[32m━━━━━━━━━━━━━━━━━━━━\u001b[0m\u001b[37m\u001b[0m \u001b[1m11s\u001b[0m 7ms/step - accuracy: 0.9873 - loss: 0.0417 - val_accuracy: 0.9726 - val_loss: 0.0892\n"
          ]
        },
        {
          "output_type": "execute_result",
          "data": {
            "text/plain": [
              "<keras.src.callbacks.history.History at 0x7def5495c590>"
            ]
          },
          "metadata": {},
          "execution_count": 3
        }
      ]
    }
  ]
}